{
 "cells": [
  {
   "cell_type": "code",
   "execution_count": null,
   "id": "e3f367fb",
   "metadata": {},
   "outputs": [],
   "source": []
  },
  {
   "cell_type": "markdown",
   "id": "6600cb7d",
   "metadata": {},
   "source": [
    "### Data Injection Pipeline"
   ]
  },
  {
   "cell_type": "markdown",
   "id": "b011e4e3",
   "metadata": {},
   "source": [
    "######  Reading 2+GB file using various libraries"
   ]
  },
  {
   "cell_type": "code",
   "execution_count": 1,
   "id": "edaaaa2f",
   "metadata": {},
   "outputs": [],
   "source": [
    "# Importing the necessary libraries\n",
    "\n",
    "import warnings\n",
    "warnings.filterwarnings('ignore')\n",
    "import csv\n",
    "import time\n",
    "import pandas as pd\n",
    "import dask.dataframe as dd"
   ]
  },
  {
   "cell_type": "code",
   "execution_count": 2,
   "id": "88e32262",
   "metadata": {},
   "outputs": [],
   "source": [
    "crime_data = \"crime_data2013-2022.csv\""
   ]
  },
  {
   "cell_type": "code",
   "execution_count": 30,
   "id": "ed7e220d",
   "metadata": {
    "scrolled": true
   },
   "outputs": [
    {
     "name": "stdout",
     "output_type": "stream",
     "text": [
      "Reading the csv file using pandas took 929.8297851085663 seconds\n"
     ]
    }
   ],
   "source": [
    "# Using pandas\n",
    "\n",
    "start_time = time.time()\n",
    "pandas_df = pd.read_csv(crime_data, sep=', ')\n",
    "print(\"Reading the csv file using pandas took %s seconds\" % (time.time() - start_time))"
   ]
  },
  {
   "cell_type": "code",
   "execution_count": null,
   "id": "5940825e",
   "metadata": {},
   "outputs": [],
   "source": []
  },
  {
   "cell_type": "code",
   "execution_count": 3,
   "id": "96af8018",
   "metadata": {},
   "outputs": [
    {
     "name": "stdout",
     "output_type": "stream",
     "text": [
      "Reading the csv file using pandas with chunksize took 0.007946491241455078 seconds\n"
     ]
    }
   ],
   "source": [
    "# Using pandas chuncks\n",
    "\n",
    "start_time = time.time()\n",
    "pandas_chunck = pd.read_csv(crime_data, chunksize=100000)\n",
    "print(\"Reading the csv file using pandas with chunksize took %s seconds\" % (time.time() - start_time))"
   ]
  },
  {
   "cell_type": "code",
   "execution_count": null,
   "id": "12071ca5",
   "metadata": {},
   "outputs": [],
   "source": []
  },
  {
   "cell_type": "code",
   "execution_count": 9,
   "id": "2640ce2a",
   "metadata": {},
   "outputs": [
    {
     "name": "stdout",
     "output_type": "stream",
     "text": [
      "56165388\n",
      "Wall time: 3min 38s\n"
     ]
    }
   ],
   "source": [
    "%%time\n",
    "\n",
    "pandas_chuncks2 = pd.read_csv(crime_data, chunksize=100000)\n",
    "total_length = 0\n",
    "for chunk in df_chunks:\n",
    "    total_length += len(chunk)\n",
    "print(\"Total length of file:\",total_length)"
   ]
  },
  {
   "cell_type": "code",
   "execution_count": 3,
   "id": "e177d558",
   "metadata": {},
   "outputs": [
    {
     "name": "stdout",
     "output_type": "stream",
     "text": [
      "Reading the csv file using dask took 0.026749849319458008 seconds\n"
     ]
    }
   ],
   "source": [
    "# Using Dask\n",
    "\n",
    "start_time = time.time()\n",
    "dask_df = dd.read_csv(crime_data)\n",
    "print(\"Reading the csv file using dask took %s seconds\" % (time.time() - start_time))"
   ]
  },
  {
   "cell_type": "code",
   "execution_count": 4,
   "id": "2c017583",
   "metadata": {},
   "outputs": [
    {
     "name": "stdout",
     "output_type": "stream",
     "text": [
      " Reading the csv file using csv.DictReader took 0.00751805305480957 seconds\n"
     ]
    }
   ],
   "source": [
    "# Using csv.DictReader\n",
    "\n",
    "start_time = time.time()\n",
    "\n",
    "df_4 = csv.DictReader(open(crime_data))\n",
    "print(\" Reading the csv file using csv.DictReader took %s seconds\" % (time.time() - start_time))\n"
   ]
  },
  {
   "cell_type": "code",
   "execution_count": null,
   "id": "9826b7ac",
   "metadata": {},
   "outputs": [],
   "source": []
  },
  {
   "cell_type": "markdown",
   "id": "e4d38b90",
   "metadata": {},
   "source": [
    "In term of the computational efficency, CSV.DictReader appears to be the most efficient with the least execution time. However, dask.dataframe reader will be used because the data need to be written in to a dataframe.\n"
   ]
  },
  {
   "cell_type": "code",
   "execution_count": 5,
   "id": "626e6eec",
   "metadata": {},
   "outputs": [
    {
     "data": {
      "text/html": [
       "<div>\n",
       "<style scoped>\n",
       "    .dataframe tbody tr th:only-of-type {\n",
       "        vertical-align: middle;\n",
       "    }\n",
       "\n",
       "    .dataframe tbody tr th {\n",
       "        vertical-align: top;\n",
       "    }\n",
       "\n",
       "    .dataframe thead th {\n",
       "        text-align: right;\n",
       "    }\n",
       "</style>\n",
       "<table border=\"1\" class=\"dataframe\">\n",
       "  <thead>\n",
       "    <tr style=\"text-align: right;\">\n",
       "      <th></th>\n",
       "      <th>crime_id</th>\n",
       "      <th>Year</th>\n",
       "      <th>Month</th>\n",
       "      <th>LSOA_code</th>\n",
       "      <th>LSOA_name</th>\n",
       "      <th>Crime_type</th>\n",
       "    </tr>\n",
       "  </thead>\n",
       "  <tbody>\n",
       "    <tr>\n",
       "      <th>0</th>\n",
       "      <td>1</td>\n",
       "      <td>2013</td>\n",
       "      <td>1</td>\n",
       "      <td>E01014399</td>\n",
       "      <td>Bath and North East Somerset 001A</td>\n",
       "      <td>Anti-social behaviour</td>\n",
       "    </tr>\n",
       "    <tr>\n",
       "      <th>1</th>\n",
       "      <td>2</td>\n",
       "      <td>2013</td>\n",
       "      <td>1</td>\n",
       "      <td>E01014399</td>\n",
       "      <td>Bath and North East Somerset 001A</td>\n",
       "      <td>Burglary</td>\n",
       "    </tr>\n",
       "    <tr>\n",
       "      <th>2</th>\n",
       "      <td>3</td>\n",
       "      <td>2013</td>\n",
       "      <td>1</td>\n",
       "      <td>E01014399</td>\n",
       "      <td>Bath and North East Somerset 001A</td>\n",
       "      <td>Other theft</td>\n",
       "    </tr>\n",
       "    <tr>\n",
       "      <th>3</th>\n",
       "      <td>4</td>\n",
       "      <td>2013</td>\n",
       "      <td>1</td>\n",
       "      <td>E01014400</td>\n",
       "      <td>Bath and North East Somerset 001B</td>\n",
       "      <td>Anti-social behaviour</td>\n",
       "    </tr>\n",
       "    <tr>\n",
       "      <th>4</th>\n",
       "      <td>5</td>\n",
       "      <td>2013</td>\n",
       "      <td>1</td>\n",
       "      <td>E01014400</td>\n",
       "      <td>Bath and North East Somerset 001B</td>\n",
       "      <td>Anti-social behaviour</td>\n",
       "    </tr>\n",
       "  </tbody>\n",
       "</table>\n",
       "</div>"
      ],
      "text/plain": [
       "   crime_id  Year  Month  LSOA_code                          LSOA_name  \\\n",
       "0         1  2013      1  E01014399  Bath and North East Somerset 001A   \n",
       "1         2  2013      1  E01014399  Bath and North East Somerset 001A   \n",
       "2         3  2013      1  E01014399  Bath and North East Somerset 001A   \n",
       "3         4  2013      1  E01014400  Bath and North East Somerset 001B   \n",
       "4         5  2013      1  E01014400  Bath and North East Somerset 001B   \n",
       "\n",
       "              Crime_type  \n",
       "0  Anti-social behaviour  \n",
       "1               Burglary  \n",
       "2            Other theft  \n",
       "3  Anti-social behaviour  \n",
       "4  Anti-social behaviour  "
      ]
     },
     "execution_count": 5,
     "metadata": {},
     "output_type": "execute_result"
    }
   ],
   "source": [
    "dask_df.head()"
   ]
  },
  {
   "cell_type": "code",
   "execution_count": 6,
   "id": "3a375690",
   "metadata": {},
   "outputs": [
    {
     "name": "stdout",
     "output_type": "stream",
     "text": [
      "<class 'dask.dataframe.core.DataFrame'>\n",
      "Columns: 6 entries, crime_id to Crime_type\n",
      "dtypes: object(3), int64(3)"
     ]
    }
   ],
   "source": [
    "dask_df.info()"
   ]
  },
  {
   "cell_type": "code",
   "execution_count": 7,
   "id": "c805396c",
   "metadata": {},
   "outputs": [
    {
     "name": "stdout",
     "output_type": "stream",
     "text": [
      "crime_id       int64\n",
      "Year           int64\n",
      "Month          int64\n",
      "LSOA_code     object\n",
      "LSOA_name     object\n",
      "Crime_type    object\n",
      "dtype: object\n"
     ]
    }
   ],
   "source": [
    "print(dask_df.dtypes)"
   ]
  },
  {
   "cell_type": "code",
   "execution_count": 8,
   "id": "14748368",
   "metadata": {},
   "outputs": [
    {
     "name": "stdout",
     "output_type": "stream",
     "text": [
      "Crime_type    4269186601\n",
      "Index               7040\n",
      "LSOA_code     3706915608\n",
      "LSOA_name     4059667726\n",
      "Month          449323104\n",
      "Year           449323104\n",
      "crime_id       449323104\n",
      "dtype: int64\n"
     ]
    }
   ],
   "source": [
    "import numpy as np\n",
    "\n",
    "# Compute the memory usage \n",
    "memory_usage = dask_df.memory_usage(deep=True).compute()\n",
    "print(memory_usage)"
   ]
  },
  {
   "cell_type": "code",
   "execution_count": 9,
   "id": "0861df1f",
   "metadata": {},
   "outputs": [
    {
     "name": "stdout",
     "output_type": "stream",
     "text": [
      "File size: 3557434225 bytes\n",
      "Number of rows: 56165388\n",
      "Number of columns: 6\n"
     ]
    }
   ],
   "source": [
    "# Getting the file size, numbers of rows and columns\n",
    "import os\n",
    "\n",
    "file_size = os.path.getsize(crime_data)\n",
    "print(\"File size:\", file_size, \"bytes\")\n",
    "print(\"Number of rows:\", dask_df.shape[0].compute())\n",
    "print(\"Number of columns:\", dask_df.shape[1])"
   ]
  },
  {
   "cell_type": "markdown",
   "id": "562871c1",
   "metadata": {},
   "source": [
    "###### Performin basic validation on the columns"
   ]
  },
  {
   "cell_type": "code",
   "execution_count": 10,
   "id": "3e845b28",
   "metadata": {},
   "outputs": [
    {
     "name": "stdout",
     "output_type": "stream",
     "text": [
      "Writing testutility.py\n"
     ]
    }
   ],
   "source": [
    "%%writefile testutility.py\n",
    "import dask.dataframe as dd\n",
    "import logging\n",
    "import os\n",
    "import subprocess\n",
    "import yaml\n",
    "import pandas as pd\n",
    "import datetime \n",
    "import gc\n",
    "import re\n",
    "\n",
    "################\n",
    "# File Reading #\n",
    "################\n",
    "\n",
    "# Creating the config file\n",
    "def read_config_file(filepath):\n",
    "    with open(filepath, 'r') as stream:\n",
    "        try:\n",
    "            return yaml.safe_load(stream)\n",
    "        except yaml.YAMLError as exc:\n",
    "            logging.error(exc)\n",
    "\n",
    "\n",
    "def replacer(string, char):\n",
    "    pattern = char + '{2,}'\n",
    "    string = re.sub(pattern, char, string) \n",
    "    return string\n",
    "\n",
    "def col_header_val(df,table_config):\n",
    "    '''\n",
    "    replace whitespaces in the column\n",
    "    and standardized column names\n",
    "    '''\n",
    "    df.columns = df.columns.str.lower()\n",
    "    df.columns = df.columns.str.replace('[^\\w]','_',regex=True)\n",
    "    df.columns = list(map(lambda x: x.strip('_'), list(df.columns)))\n",
    "    df.columns = list(map(lambda x: replacer(x,'_'), list(df.columns)))\n",
    "    expected_col = list(map(lambda x: x.lower(),  table_config['columns']))\n",
    "    expected_col.sort()\n",
    "    df.columns =list(map(lambda x: x.lower(), list(df.columns)))\n",
    "    df = df.reindex(sorted(df.columns), axis=1)\n",
    "    if len(df.columns) == len(expected_col) and list(expected_col)  == list(df.columns):\n",
    "        print(\"column name and column length validation passed\")\n",
    "        return 1\n",
    "    else:\n",
    "        print(\"column name and column length validation failed\")\n",
    "        mismatched_columns_file = list(set(df.columns).difference(expected_col))\n",
    "        print(\"Following File columns are not in the YAML file\",mismatched_columns_file)\n",
    "        missing_YAML_file = list(set(expected_col).difference(df.columns))\n",
    "        print(\"Following YAML columns are not in the file uploaded\",missing_YAML_file)\n",
    "        logging.info(f'df columns: {df.columns}')\n",
    "        logging.info(f'expected columns: {expected_col}')\n",
    "        return 0\n",
    " "
   ]
  },
  {
   "cell_type": "code",
   "execution_count": 21,
   "id": "390993ef",
   "metadata": {},
   "outputs": [
    {
     "name": "stdout",
     "output_type": "stream",
     "text": [
      "Writing crimefile.yaml\n"
     ]
    }
   ],
   "source": [
    "%%writefile crimefile.yaml\n",
    "file_type: csv\n",
    "dataset_name: crime_data2013-2022\n",
    "file_name: test_data\n",
    "table_name: edsurv\n",
    "inbound_delimiter: \",\"\n",
    "outbound_delimiter: \"|\"\n",
    "skip_leading_rows: 1\n",
    "columns: \n",
    "    - Crime ID\n",
    "    - Year\n",
    "    - Month\n",
    "    - LSOA Name\n",
    "    - LSOA Code\n",
    "    - Crime Type"
   ]
  },
  {
   "cell_type": "code",
   "execution_count": 22,
   "id": "ea15606c",
   "metadata": {},
   "outputs": [],
   "source": [
    "# Read config file\n",
    "import testutility as util\n",
    "config_data = util.read_config_file(\"crimefile.yaml\")"
   ]
  },
  {
   "cell_type": "code",
   "execution_count": 23,
   "id": "67c1ff6a",
   "metadata": {},
   "outputs": [
    {
     "data": {
      "text/plain": [
       "','"
      ]
     },
     "execution_count": 23,
     "metadata": {},
     "output_type": "execute_result"
    }
   ],
   "source": [
    "config_data['inbound_delimiter']"
   ]
  },
  {
   "cell_type": "code",
   "execution_count": 24,
   "id": "9d2b39e9",
   "metadata": {},
   "outputs": [
    {
     "data": {
      "text/plain": [
       "{'file_type': 'csv',\n",
       " 'dataset_name': 'crime_data2013-2022',\n",
       " 'file_name': 'test_data',\n",
       " 'table_name': 'edsurv',\n",
       " 'inbound_delimiter': ',',\n",
       " 'outbound_delimiter': '|',\n",
       " 'skip_leading_rows': 1,\n",
       " 'columns': ['Crime ID',\n",
       "  'Year',\n",
       "  'Month',\n",
       "  'LSOA Name',\n",
       "  'LSOA Code',\n",
       "  'Crime Type']}"
      ]
     },
     "execution_count": 24,
     "metadata": {},
     "output_type": "execute_result"
    }
   ],
   "source": [
    "# Checking the content of the config file\n",
    "config_data"
   ]
  },
  {
   "cell_type": "code",
   "execution_count": 15,
   "id": "cd5943b4",
   "metadata": {},
   "outputs": [],
   "source": [
    "# Creating the test file\n",
    "testdata = {\n",
    "    'crime_id' : [0,1,2,3,4],\n",
    "    'Year': [2013, 2013, 2013,2013, 2013],\n",
    "    'Month':[1,1,1,1,1],\n",
    "    'LSOA_code':['E01014399','E01014399','E01014399','E01014400','E01014400'],\n",
    "    'LSOA_name':['Bath and North East Somerset 001A','Bath and North East Somerset 001A','Bath and North East Somerset 001A','Bath and North East Somerset 001B','Bath and North East Somerset 001B'],\n",
    "    'Crime_type':['Anti-social behaviour','Burglary','Other theft','Anti-social behaviou','Shoplifting']\n",
    "}\n",
    "\n",
    "df = pd.DataFrame(testdata, columns=['crime_id', 'Year','Month','LSOA_code','LSOA_name','Crime_type'])\n",
    "df.to_csv(\"test_data.csv\",index=False)"
   ]
  },
  {
   "cell_type": "code",
   "execution_count": 16,
   "id": "09a08e56",
   "metadata": {},
   "outputs": [
    {
     "data": {
      "text/html": [
       "<div>\n",
       "<style scoped>\n",
       "    .dataframe tbody tr th:only-of-type {\n",
       "        vertical-align: middle;\n",
       "    }\n",
       "\n",
       "    .dataframe tbody tr th {\n",
       "        vertical-align: top;\n",
       "    }\n",
       "\n",
       "    .dataframe thead th {\n",
       "        text-align: right;\n",
       "    }\n",
       "</style>\n",
       "<table border=\"1\" class=\"dataframe\">\n",
       "  <thead>\n",
       "    <tr style=\"text-align: right;\">\n",
       "      <th></th>\n",
       "      <th>crime_id</th>\n",
       "      <th>Year</th>\n",
       "      <th>Month</th>\n",
       "      <th>LSOA_code</th>\n",
       "      <th>LSOA_name</th>\n",
       "      <th>Crime_type</th>\n",
       "    </tr>\n",
       "  </thead>\n",
       "  <tbody>\n",
       "    <tr>\n",
       "      <th>0</th>\n",
       "      <td>0</td>\n",
       "      <td>2013</td>\n",
       "      <td>1</td>\n",
       "      <td>E01014399</td>\n",
       "      <td>Bath and North East Somerset 001A</td>\n",
       "      <td>Anti-social behaviour</td>\n",
       "    </tr>\n",
       "    <tr>\n",
       "      <th>1</th>\n",
       "      <td>1</td>\n",
       "      <td>2013</td>\n",
       "      <td>1</td>\n",
       "      <td>E01014399</td>\n",
       "      <td>Bath and North East Somerset 001A</td>\n",
       "      <td>Burglary</td>\n",
       "    </tr>\n",
       "    <tr>\n",
       "      <th>2</th>\n",
       "      <td>2</td>\n",
       "      <td>2013</td>\n",
       "      <td>1</td>\n",
       "      <td>E01014399</td>\n",
       "      <td>Bath and North East Somerset 001A</td>\n",
       "      <td>Other theft</td>\n",
       "    </tr>\n",
       "    <tr>\n",
       "      <th>3</th>\n",
       "      <td>3</td>\n",
       "      <td>2013</td>\n",
       "      <td>1</td>\n",
       "      <td>E01014400</td>\n",
       "      <td>Bath and North East Somerset 001B</td>\n",
       "      <td>Anti-social behaviou</td>\n",
       "    </tr>\n",
       "    <tr>\n",
       "      <th>4</th>\n",
       "      <td>4</td>\n",
       "      <td>2013</td>\n",
       "      <td>1</td>\n",
       "      <td>E01014400</td>\n",
       "      <td>Bath and North East Somerset 001B</td>\n",
       "      <td>Shoplifting</td>\n",
       "    </tr>\n",
       "  </tbody>\n",
       "</table>\n",
       "</div>"
      ],
      "text/plain": [
       "   crime_id  Year  Month  LSOA_code                          LSOA_name  \\\n",
       "0         0  2013      1  E01014399  Bath and North East Somerset 001A   \n",
       "1         1  2013      1  E01014399  Bath and North East Somerset 001A   \n",
       "2         2  2013      1  E01014399  Bath and North East Somerset 001A   \n",
       "3         3  2013      1  E01014400  Bath and North East Somerset 001B   \n",
       "4         4  2013      1  E01014400  Bath and North East Somerset 001B   \n",
       "\n",
       "              Crime_type  \n",
       "0  Anti-social behaviour  \n",
       "1               Burglary  \n",
       "2            Other theft  \n",
       "3   Anti-social behaviou  \n",
       "4            Shoplifting  "
      ]
     },
     "execution_count": 16,
     "metadata": {},
     "output_type": "execute_result"
    }
   ],
   "source": [
    "# Normal reading process of the file using Pandas\n",
    "\n",
    "import pandas as pd\n",
    "sample_df = pd.read_csv(\"test_data.csv\",delimiter=',')\n",
    "sample_df.head()"
   ]
  },
  {
   "cell_type": "code",
   "execution_count": 17,
   "id": "dbf79657",
   "metadata": {},
   "outputs": [
    {
     "name": "stdout",
     "output_type": "stream",
     "text": [
      " ./test_data.csv\n"
     ]
    },
    {
     "data": {
      "text/html": [
       "<div>\n",
       "<style scoped>\n",
       "    .dataframe tbody tr th:only-of-type {\n",
       "        vertical-align: middle;\n",
       "    }\n",
       "\n",
       "    .dataframe tbody tr th {\n",
       "        vertical-align: top;\n",
       "    }\n",
       "\n",
       "    .dataframe thead th {\n",
       "        text-align: right;\n",
       "    }\n",
       "</style>\n",
       "<table border=\"1\" class=\"dataframe\">\n",
       "  <thead>\n",
       "    <tr style=\"text-align: right;\">\n",
       "      <th></th>\n",
       "      <th>crime_id</th>\n",
       "      <th>Year</th>\n",
       "      <th>Month</th>\n",
       "      <th>LSOA_code</th>\n",
       "      <th>LSOA_name</th>\n",
       "      <th>Crime_type</th>\n",
       "    </tr>\n",
       "  </thead>\n",
       "  <tbody>\n",
       "    <tr>\n",
       "      <th>0</th>\n",
       "      <td>0</td>\n",
       "      <td>2013</td>\n",
       "      <td>1</td>\n",
       "      <td>E01014399</td>\n",
       "      <td>Bath and North East Somerset 001A</td>\n",
       "      <td>Anti-social behaviour</td>\n",
       "    </tr>\n",
       "    <tr>\n",
       "      <th>1</th>\n",
       "      <td>1</td>\n",
       "      <td>2013</td>\n",
       "      <td>1</td>\n",
       "      <td>E01014399</td>\n",
       "      <td>Bath and North East Somerset 001A</td>\n",
       "      <td>Burglary</td>\n",
       "    </tr>\n",
       "    <tr>\n",
       "      <th>2</th>\n",
       "      <td>2</td>\n",
       "      <td>2013</td>\n",
       "      <td>1</td>\n",
       "      <td>E01014399</td>\n",
       "      <td>Bath and North East Somerset 001A</td>\n",
       "      <td>Other theft</td>\n",
       "    </tr>\n",
       "    <tr>\n",
       "      <th>3</th>\n",
       "      <td>3</td>\n",
       "      <td>2013</td>\n",
       "      <td>1</td>\n",
       "      <td>E01014400</td>\n",
       "      <td>Bath and North East Somerset 001B</td>\n",
       "      <td>Anti-social behaviou</td>\n",
       "    </tr>\n",
       "    <tr>\n",
       "      <th>4</th>\n",
       "      <td>4</td>\n",
       "      <td>2013</td>\n",
       "      <td>1</td>\n",
       "      <td>E01014400</td>\n",
       "      <td>Bath and North East Somerset 001B</td>\n",
       "      <td>Shoplifting</td>\n",
       "    </tr>\n",
       "  </tbody>\n",
       "</table>\n",
       "</div>"
      ],
      "text/plain": [
       "   crime_id  Year  Month  LSOA_code                          LSOA_name  \\\n",
       "0         0  2013      1  E01014399  Bath and North East Somerset 001A   \n",
       "1         1  2013      1  E01014399  Bath and North East Somerset 001A   \n",
       "2         2  2013      1  E01014399  Bath and North East Somerset 001A   \n",
       "3         3  2013      1  E01014400  Bath and North East Somerset 001B   \n",
       "4         4  2013      1  E01014400  Bath and North East Somerset 001B   \n",
       "\n",
       "              Crime_type  \n",
       "0  Anti-social behaviour  \n",
       "1               Burglary  \n",
       "2            Other theft  \n",
       "3   Anti-social behaviou  \n",
       "4            Shoplifting  "
      ]
     },
     "execution_count": 17,
     "metadata": {},
     "output_type": "execute_result"
    }
   ],
   "source": [
    "# Reading the file using config file\n",
    "\n",
    "\n",
    "file_type = config_data['file_type']\n",
    "source_file = \"./\" + config_data['file_name'] + f'.{file_type}'\n",
    "print(\"\",source_file)\n",
    "df = pd.read_csv(source_file,config_data['inbound_delimiter'])\n",
    "df.head()"
   ]
  },
  {
   "cell_type": "code",
   "execution_count": 18,
   "id": "ed13f1b6",
   "metadata": {},
   "outputs": [
    {
     "name": "stdout",
     "output_type": "stream",
     "text": [
      " ./crime_data2013-2022.csv\n"
     ]
    },
    {
     "data": {
      "text/html": [
       "<div>\n",
       "<style scoped>\n",
       "    .dataframe tbody tr th:only-of-type {\n",
       "        vertical-align: middle;\n",
       "    }\n",
       "\n",
       "    .dataframe tbody tr th {\n",
       "        vertical-align: top;\n",
       "    }\n",
       "\n",
       "    .dataframe thead th {\n",
       "        text-align: right;\n",
       "    }\n",
       "</style>\n",
       "<table border=\"1\" class=\"dataframe\">\n",
       "  <thead>\n",
       "    <tr style=\"text-align: right;\">\n",
       "      <th></th>\n",
       "      <th>crime_id</th>\n",
       "      <th>Year</th>\n",
       "      <th>Month</th>\n",
       "      <th>LSOA_code</th>\n",
       "      <th>LSOA_name</th>\n",
       "      <th>Crime_type</th>\n",
       "    </tr>\n",
       "  </thead>\n",
       "  <tbody>\n",
       "    <tr>\n",
       "      <th>0</th>\n",
       "      <td>1</td>\n",
       "      <td>2013</td>\n",
       "      <td>1</td>\n",
       "      <td>E01014399</td>\n",
       "      <td>Bath and North East Somerset 001A</td>\n",
       "      <td>Anti-social behaviour</td>\n",
       "    </tr>\n",
       "    <tr>\n",
       "      <th>1</th>\n",
       "      <td>2</td>\n",
       "      <td>2013</td>\n",
       "      <td>1</td>\n",
       "      <td>E01014399</td>\n",
       "      <td>Bath and North East Somerset 001A</td>\n",
       "      <td>Burglary</td>\n",
       "    </tr>\n",
       "    <tr>\n",
       "      <th>2</th>\n",
       "      <td>3</td>\n",
       "      <td>2013</td>\n",
       "      <td>1</td>\n",
       "      <td>E01014399</td>\n",
       "      <td>Bath and North East Somerset 001A</td>\n",
       "      <td>Other theft</td>\n",
       "    </tr>\n",
       "    <tr>\n",
       "      <th>3</th>\n",
       "      <td>4</td>\n",
       "      <td>2013</td>\n",
       "      <td>1</td>\n",
       "      <td>E01014400</td>\n",
       "      <td>Bath and North East Somerset 001B</td>\n",
       "      <td>Anti-social behaviour</td>\n",
       "    </tr>\n",
       "    <tr>\n",
       "      <th>4</th>\n",
       "      <td>5</td>\n",
       "      <td>2013</td>\n",
       "      <td>1</td>\n",
       "      <td>E01014400</td>\n",
       "      <td>Bath and North East Somerset 001B</td>\n",
       "      <td>Anti-social behaviour</td>\n",
       "    </tr>\n",
       "  </tbody>\n",
       "</table>\n",
       "</div>"
      ],
      "text/plain": [
       "   crime_id  Year  Month  LSOA_code                          LSOA_name  \\\n",
       "0         1  2013      1  E01014399  Bath and North East Somerset 001A   \n",
       "1         2  2013      1  E01014399  Bath and North East Somerset 001A   \n",
       "2         3  2013      1  E01014399  Bath and North East Somerset 001A   \n",
       "3         4  2013      1  E01014400  Bath and North East Somerset 001B   \n",
       "4         5  2013      1  E01014400  Bath and North East Somerset 001B   \n",
       "\n",
       "              Crime_type  \n",
       "0  Anti-social behaviour  \n",
       "1               Burglary  \n",
       "2            Other theft  \n",
       "3  Anti-social behaviour  \n",
       "4  Anti-social behaviour  "
      ]
     },
     "execution_count": 18,
     "metadata": {},
     "output_type": "execute_result"
    }
   ],
   "source": [
    "# Readin the of the crime file using config\n",
    "\n",
    "file_type = config_data['file_type']\n",
    "source_file = \"./\" + config_data['dataset_name'] + f'.{file_type}'\n",
    "print(\"\",source_file)\n",
    "main_df = pd.read_csv(source_file,config_data['inbound_delimiter'])\n",
    "main_df.head()"
   ]
  },
  {
   "cell_type": "code",
   "execution_count": 25,
   "id": "75fa9621",
   "metadata": {},
   "outputs": [
    {
     "data": {
      "text/plain": [
       "{'file_type': 'csv',\n",
       " 'dataset_name': 'crime_data2013-2022',\n",
       " 'file_name': 'test_data',\n",
       " 'table_name': 'edsurv',\n",
       " 'inbound_delimiter': ',',\n",
       " 'outbound_delimiter': '|',\n",
       " 'skip_leading_rows': 1,\n",
       " 'columns': ['Crime ID',\n",
       "  'Year',\n",
       "  'Month',\n",
       "  'LSOA Name',\n",
       "  'LSOA Code',\n",
       "  'Crime Type']}"
      ]
     },
     "execution_count": 25,
     "metadata": {},
     "output_type": "execute_result"
    }
   ],
   "source": [
    "# Checking the contenet of the config file\n",
    "config_data"
   ]
  },
  {
   "cell_type": "code",
   "execution_count": 26,
   "id": "9eea3508",
   "metadata": {},
   "outputs": [
    {
     "name": "stdout",
     "output_type": "stream",
     "text": [
      "column name and column length validation failed\n",
      "Following File columns are not in the YAML file ['lsoa_code', 'crime_id', 'lsoa_name', 'crime_type']\n",
      "Following YAML columns are not in the file uploaded ['crime type', 'crime id', 'lsoa name', 'lsoa code']\n"
     ]
    },
    {
     "data": {
      "text/plain": [
       "0"
      ]
     },
     "execution_count": 26,
     "metadata": {},
     "output_type": "execute_result"
    }
   ],
   "source": [
    "# Validating the file column names \n",
    "\n",
    "util.col_header_val(df,config_data)"
   ]
  },
  {
   "cell_type": "code",
   "execution_count": 27,
   "id": "75cdc1cc",
   "metadata": {},
   "outputs": [
    {
     "name": "stdout",
     "output_type": "stream",
     "text": [
      "columns of files are: Index(['crime_id', 'year', 'month', 'lsoa_code', 'lsoa_name', 'crime_type'], dtype='object')\n",
      "columns of YAML are: ['Crime ID', 'Year', 'Month', 'LSOA Name', 'LSOA Code', 'Crime Type']\n"
     ]
    }
   ],
   "source": [
    "#\n",
    "print(\"columns of files are:\" ,df.columns)\n",
    "print(\"columns of YAML are:\" ,config_data['columns'])"
   ]
  },
  {
   "cell_type": "code",
   "execution_count": 28,
   "id": "ce84154c",
   "metadata": {},
   "outputs": [],
   "source": [
    "# Writing the file in pipe separated text file (|) in gz format.\n",
    "import datetime\n",
    "import csv\n",
    "import gzip\n",
    "\n",
    "# Write csv in gz format in pipe separated text file (|)\n",
    "df.to_csv('test.gz',\n",
    "          sep='|',\n",
    "          header=True,\n",
    "          index=False,\n",
    "          quoting=csv.QUOTE_ALL,\n",
    "          compression='gzip',\n",
    "          quotechar='\"',\n",
    "          doublequote=True,\n",
    "          line_terminator='\\n')"
   ]
  },
  {
   "cell_type": "code",
   "execution_count": 29,
   "id": "280ebe45",
   "metadata": {},
   "outputs": [
    {
     "name": "stdout",
     "output_type": "stream",
     "text": [
      "Summary:\n",
      "Number of rows: 5\n",
      "Number of columns: 1\n",
      "File size: 202 bytes\n"
     ]
    }
   ],
   "source": [
    "# Creating the file summary\n",
    "\n",
    "import dask.dataframe as dd\n",
    "import os\n",
    "\n",
    "# Read the gzip-compressed file into a Dask DataFrame\n",
    "df = dd.read_csv('test.gz')\n",
    "\n",
    "# Getting the number of rows and columns\n",
    "num_rows = df.shape[0].compute()\n",
    "num_columns = df.shape[1]\n",
    "\n",
    "# Getting the file size of the gzip-compressed file\n",
    "file_size = os.path.getsize('test.gz')\n",
    "\n",
    "# Print the summary\n",
    "print(\"Summary:\")\n",
    "print(\"Number of rows:\", num_rows)\n",
    "print(\"Number of columns:\", num_columns)\n",
    "print(\"File size:\", file_size, \"bytes\")\n"
   ]
  },
  {
   "cell_type": "code",
   "execution_count": null,
   "id": "a328b629",
   "metadata": {},
   "outputs": [],
   "source": []
  }
 ],
 "metadata": {
  "kernelspec": {
   "display_name": "Python 3 (ipykernel)",
   "language": "python",
   "name": "python3"
  },
  "language_info": {
   "codemirror_mode": {
    "name": "ipython",
    "version": 3
   },
   "file_extension": ".py",
   "mimetype": "text/x-python",
   "name": "python",
   "nbconvert_exporter": "python",
   "pygments_lexer": "ipython3",
   "version": "3.9.13"
  }
 },
 "nbformat": 4,
 "nbformat_minor": 5
}
