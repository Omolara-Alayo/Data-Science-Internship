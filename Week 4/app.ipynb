{
 "cells": [
  {
   "cell_type": "markdown",
   "id": "83f91a95",
   "metadata": {},
   "source": [
    "##### Flask app for heart predictive model"
   ]
  },
  {
   "cell_type": "code",
   "execution_count": null,
   "id": "a9087b1e",
   "metadata": {},
   "outputs": [],
   "source": [
    "import numpy as np\n",
    "from flask import Flask, request, render_template\n",
    "import pickle\n",
    "\n",
    "app = Flask(__name__)\n",
    "\n",
    "#Prediction function\n",
    "def HeartDiseasePredictor(predict_list):\n",
    "    to_predict  = np.array(predict_list).reshape(1,13)\n",
    "    loaded_model = pickle.load(open(\"heart_disease_model.pkl\", \"rb\"))\n",
    "    result = loaded_model.predict(to_predict)\n",
    "    return result[0]\n",
    "\n",
    "@app.route('/')\n",
    "def home():\n",
    "    return render_template('index.html')\n",
    "\n",
    "@app.route('/predict', methods = ['POST'])\n",
    "def predict():\n",
    "    if request.method == 'POST':\n",
    "        predict_list = request.form.to_dict()\n",
    "        predict_list = list(predict_list.values())\n",
    "        predict_list = list(map(int, predict_list))\n",
    "        result = HeartDiseasePredictor(predict_list)\n",
    "        if int(result)==1:\n",
    "            prediction = 'This individual has a heart disease.'\n",
    "        else:\n",
    "            prediction = 'This individual does not have heart disease.'\n",
    "        return render_template(\"predict.html\", prediction = prediction)\n",
    " \n",
    "if __name__==\"__main__\":\n",
    "    app.run(port=5000)"
   ]
  },
  {
   "cell_type": "code",
   "execution_count": null,
   "id": "be324d5d",
   "metadata": {},
   "outputs": [],
   "source": []
  }
 ],
 "metadata": {
  "kernelspec": {
   "display_name": "Python 3 (ipykernel)",
   "language": "python",
   "name": "python3"
  },
  "language_info": {
   "codemirror_mode": {
    "name": "ipython",
    "version": 3
   },
   "file_extension": ".py",
   "mimetype": "text/x-python",
   "name": "python",
   "nbconvert_exporter": "python",
   "pygments_lexer": "ipython3",
   "version": "3.9.13"
  }
 },
 "nbformat": 4,
 "nbformat_minor": 5
}
